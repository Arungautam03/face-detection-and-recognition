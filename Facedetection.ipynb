{
 "cells": [
  {
   "cell_type": "code",
   "execution_count": 15,
   "id": "889ede05",
   "metadata": {},
   "outputs": [],
   "source": [
    "import cv2\n",
    "import os"
   ]
  },
  {
   "cell_type": "code",
   "execution_count": 16,
   "id": "4e88e386",
   "metadata": {},
   "outputs": [],
   "source": [
    "def generate_dataset(img, id, img_id):\n",
    "    cv2.imwrite(\"C:\\\\Users\\\\Lenovo\\\\face_detection_data\\\\\" + str(id) + \".\" + str(img_id) + \".jpg\", img)\n"
   ]
  },
  {
   "cell_type": "code",
   "execution_count": 17,
   "id": "41fde6b3",
   "metadata": {},
   "outputs": [],
   "source": [
    "def draw_boundary(img, classifier, scaleFactor, minNeighbors, color, text):\n",
    "    gray_img = cv2.cvtColor(img, cv2.COLOR_BGR2GRAY)\n",
    "    features = classifier.detectMultiScale(gray_img, scaleFactor, minNeighbors)\n",
    "    coords = []\n",
    "    for (x, y, w, h) in features:\n",
    "        cv2.rectangle(img, (x, y), (x+w, y+h), color, 2)\n",
    "        cv2.putText(img, \"Face Detected\", (x, y-5), cv2.FONT_HERSHEY_PLAIN, 0.8, color, 1, cv2.LINE_AA)\n",
    "        coords = [x, y, w, h]\n",
    "    return coords, img\n"
   ]
  },
  {
   "cell_type": "code",
   "execution_count": 18,
   "id": "603c19ac",
   "metadata": {},
   "outputs": [],
   "source": [
    "def detect(img, faceCascade, img_id):\n",
    "    colors = {\n",
    "    \"red\": (255, 0, 0),\n",
    "    \"green\": (0, 255, 0),\n",
    "    \"cyan\": (255, 255, 0),\n",
    "    \"yellow\": (0, 255, 255),\n",
    "    \"white\": (255, 255, 255),\n",
    "    \"black\": (0, 0, 0),\n",
    "}\n",
    "    coords,img = draw_boundary(img,faceCascade,1.1,10,colors['yellow'],\"Face\")\n",
    "    #cropping to get the image\n",
    "    if len(coords)==4:\n",
    "        roi_img = img[coords[1]:coords[1]+coords[3], coords[0]:coords[0]+coords[2]]\n",
    "        user_id=1\n",
    "        generate_dataset(roi_img,user_id,img_id)\n",
    "    return img\n"
   ]
  },
  {
   "cell_type": "code",
   "execution_count": 19,
   "id": "bc884a82",
   "metadata": {},
   "outputs": [],
   "source": [
    "faceCascade = cv2.CascadeClassifier(\"C:\\\\Users\\\\Lenovo\\\\Downloads\\\\haarcascade_frontalface_default.xml\")\n"
   ]
  },
  {
   "cell_type": "code",
   "execution_count": 20,
   "id": "d8e72978",
   "metadata": {
    "scrolled": true
   },
   "outputs": [],
   "source": [
    "video_capture= cv2.VideoCapture(0)\n",
    "\n",
    "img_id = 0\n",
    "while True:\n",
    "    _, img = video_capture.read()\n",
    "    img = detect(img, faceCascade, img_id)\n",
    "    cv2.imshow(\"Face Detection\",img)\n",
    "    img_id += 1\n",
    "    if cv2.waitKey(1) & 0xFF==ord('q'):\n",
    "        break\n",
    "    \n",
    "video_capture.release()\n",
    "cv2.destroyAllWindows()\n",
    "    \n",
    "    "
   ]
  }
 ],
 "metadata": {
  "kernelspec": {
   "display_name": "Python 3 (ipykernel)",
   "language": "python",
   "name": "python3"
  },
  "language_info": {
   "codemirror_mode": {
    "name": "ipython",
    "version": 3
   },
   "file_extension": ".py",
   "mimetype": "text/x-python",
   "name": "python",
   "nbconvert_exporter": "python",
   "pygments_lexer": "ipython3",
   "version": "3.11.4"
  }
 },
 "nbformat": 4,
 "nbformat_minor": 5
}
