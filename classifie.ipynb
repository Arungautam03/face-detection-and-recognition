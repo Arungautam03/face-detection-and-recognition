{
 "cells": [
  {
   "cell_type": "code",
   "execution_count": 2,
   "id": "05245076",
   "metadata": {},
   "outputs": [],
   "source": [
    "import numpy as np"
   ]
  },
  {
   "cell_type": "code",
   "execution_count": 6,
   "id": "d8d5b174",
   "metadata": {},
   "outputs": [],
   "source": [
    "from PIL import Image\n",
    "import os\n",
    "import cv2"
   ]
  },
  {
   "cell_type": "code",
   "execution_count": 15,
   "id": "a6699d39",
   "metadata": {},
   "outputs": [],
   "source": [
    "def train_classifier(face_detection_data):\n",
    "    #append all images in a list\n",
    "    path = [os.path.join(face_detection_data, f )for f in os.listdir(face_detection_data)]\n",
    "    faces = []\n",
    "    ids = []\n",
    "    \n",
    "    for image in path:\n",
    "        img = Image.open(image).convert('L') #convert image to gray scale\n",
    "        imageNp = np.array(img, 'uint8')\n",
    "        id = int(os.path.split(image)[1].split(\".\")[1])\n",
    "        faces.append(imageNp)\n",
    "        ids.append(id)\n",
    "    ids=np.array(ids)\n",
    "    clf = cv2.face.LBPHFaceRecognizer_create()\n",
    "    clf.train(faces,ids)\n",
    "    clf.write(\"classifier.yml\")\n",
    "    \n",
    "train_classifier(\"face_detection_data\")"
   ]
  },
  {
   "cell_type": "code",
   "execution_count": null,
   "id": "20390185",
   "metadata": {},
   "outputs": [],
   "source": []
  }
 ],
 "metadata": {
  "kernelspec": {
   "display_name": "Python 3 (ipykernel)",
   "language": "python",
   "name": "python3"
  },
  "language_info": {
   "codemirror_mode": {
    "name": "ipython",
    "version": 3
   },
   "file_extension": ".py",
   "mimetype": "text/x-python",
   "name": "python",
   "nbconvert_exporter": "python",
   "pygments_lexer": "ipython3",
   "version": "3.11.4"
  }
 },
 "nbformat": 4,
 "nbformat_minor": 5
}
